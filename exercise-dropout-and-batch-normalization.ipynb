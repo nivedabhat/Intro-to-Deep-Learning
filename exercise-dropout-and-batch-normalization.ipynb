{
 "cells": [
  {
   "cell_type": "markdown",
   "id": "94cc334c",
   "metadata": {
    "papermill": {
     "duration": 0.006973,
     "end_time": "2024-03-22T20:08:09.210555",
     "exception": false,
     "start_time": "2024-03-22T20:08:09.203582",
     "status": "completed"
    },
    "tags": []
   },
   "source": [
    "**This notebook is an exercise in the [Intro to Deep Learning](https://www.kaggle.com/learn/intro-to-deep-learning) course.  You can reference the tutorial at [this link](https://www.kaggle.com/ryanholbrook/dropout-and-batch-normalization).**\n",
    "\n",
    "---\n"
   ]
  },
  {
   "cell_type": "markdown",
   "id": "f87c6f88",
   "metadata": {
    "papermill": {
     "duration": 0.005876,
     "end_time": "2024-03-22T20:08:09.222889",
     "exception": false,
     "start_time": "2024-03-22T20:08:09.217013",
     "status": "completed"
    },
    "tags": []
   },
   "source": [
    "# Introduction #\n",
    "\n",
    "In this exercise, you'll add dropout to the *Spotify* model from Exercise 4 and see how batch normalization can let you successfully train models on difficult datasets.\n",
    "\n",
    "Run the next cell to get started!"
   ]
  },
  {
   "cell_type": "code",
   "execution_count": 1,
   "id": "c85e0749",
   "metadata": {
    "execution": {
     "iopub.execute_input": "2024-03-22T20:08:09.236465Z",
     "iopub.status.busy": "2024-03-22T20:08:09.236164Z",
     "iopub.status.idle": "2024-03-22T20:08:10.036545Z",
     "shell.execute_reply": "2024-03-22T20:08:10.035665Z"
    },
    "papermill": {
     "duration": 0.809635,
     "end_time": "2024-03-22T20:08:10.038800",
     "exception": false,
     "start_time": "2024-03-22T20:08:09.229165",
     "status": "completed"
    },
    "tags": []
   },
   "outputs": [
    {
     "name": "stderr",
     "output_type": "stream",
     "text": [
      "/tmp/ipykernel_27/195640296.py:3: MatplotlibDeprecationWarning: The seaborn styles shipped by Matplotlib are deprecated since 3.6, as they no longer correspond to the styles shipped by seaborn. However, they will remain available as 'seaborn-v0_8-<style>'. Alternatively, directly use the seaborn API instead.\n",
      "  plt.style.use('seaborn-whitegrid')\n"
     ]
    }
   ],
   "source": [
    "# Setup plotting\n",
    "import matplotlib.pyplot as plt\n",
    "plt.style.use('seaborn-whitegrid')\n",
    "# Set Matplotlib defaults\n",
    "plt.rc('figure', autolayout=True)\n",
    "plt.rc('axes', labelweight='bold', labelsize='large',\n",
    "       titleweight='bold', titlesize=18, titlepad=10)\n",
    "plt.rc('animation', html='html5')\n",
    "\n",
    "# Setup feedback system\n",
    "from learntools.core import binder\n",
    "binder.bind(globals())\n",
    "from learntools.deep_learning_intro.ex5 import *"
   ]
  },
  {
   "cell_type": "markdown",
   "id": "cab3df91",
   "metadata": {
    "papermill": {
     "duration": 0.00627,
     "end_time": "2024-03-22T20:08:10.051678",
     "exception": false,
     "start_time": "2024-03-22T20:08:10.045408",
     "status": "completed"
    },
    "tags": []
   },
   "source": [
    "First load the *Spotify* dataset."
   ]
  },
  {
   "cell_type": "code",
   "execution_count": 2,
   "id": "66acec95",
   "metadata": {
    "execution": {
     "iopub.execute_input": "2024-03-22T20:08:10.065430Z",
     "iopub.status.busy": "2024-03-22T20:08:10.065037Z",
     "iopub.status.idle": "2024-03-22T20:08:23.514320Z",
     "shell.execute_reply": "2024-03-22T20:08:23.513327Z"
    },
    "papermill": {
     "duration": 13.459461,
     "end_time": "2024-03-22T20:08:23.517258",
     "exception": false,
     "start_time": "2024-03-22T20:08:10.057797",
     "status": "completed"
    },
    "tags": []
   },
   "outputs": [
    {
     "name": "stderr",
     "output_type": "stream",
     "text": [
      "2024-03-22 20:08:12.849709: E external/local_xla/xla/stream_executor/cuda/cuda_dnn.cc:9261] Unable to register cuDNN factory: Attempting to register factory for plugin cuDNN when one has already been registered\n",
      "2024-03-22 20:08:12.849847: E external/local_xla/xla/stream_executor/cuda/cuda_fft.cc:607] Unable to register cuFFT factory: Attempting to register factory for plugin cuFFT when one has already been registered\n",
      "2024-03-22 20:08:12.966221: E external/local_xla/xla/stream_executor/cuda/cuda_blas.cc:1515] Unable to register cuBLAS factory: Attempting to register factory for plugin cuBLAS when one has already been registered\n"
     ]
    },
    {
     "name": "stdout",
     "output_type": "stream",
     "text": [
      "Input shape: [18]\n"
     ]
    }
   ],
   "source": [
    "import pandas as pd\n",
    "from sklearn.preprocessing import StandardScaler, OneHotEncoder\n",
    "from sklearn.compose import make_column_transformer\n",
    "from sklearn.model_selection import GroupShuffleSplit\n",
    "\n",
    "from tensorflow import keras\n",
    "from tensorflow.keras import layers\n",
    "from tensorflow.keras import callbacks\n",
    "\n",
    "spotify = pd.read_csv('../input/dl-course-data/spotify.csv')\n",
    "\n",
    "X = spotify.copy().dropna()\n",
    "y = X.pop('track_popularity')\n",
    "artists = X['track_artist']\n",
    "\n",
    "features_num = ['danceability', 'energy', 'key', 'loudness', 'mode',\n",
    "                'speechiness', 'acousticness', 'instrumentalness',\n",
    "                'liveness', 'valence', 'tempo', 'duration_ms']\n",
    "features_cat = ['playlist_genre']\n",
    "\n",
    "preprocessor = make_column_transformer(\n",
    "    (StandardScaler(), features_num),\n",
    "    (OneHotEncoder(), features_cat),\n",
    ")\n",
    "\n",
    "def group_split(X, y, group, train_size=0.75):\n",
    "    splitter = GroupShuffleSplit(train_size=train_size)\n",
    "    train, test = next(splitter.split(X, y, groups=group))\n",
    "    return (X.iloc[train], X.iloc[test], y.iloc[train], y.iloc[test])\n",
    "\n",
    "X_train, X_valid, y_train, y_valid = group_split(X, y, artists)\n",
    "\n",
    "X_train = preprocessor.fit_transform(X_train)\n",
    "X_valid = preprocessor.transform(X_valid)\n",
    "y_train = y_train / 100\n",
    "y_valid = y_valid / 100\n",
    "\n",
    "input_shape = [X_train.shape[1]]\n",
    "print(\"Input shape: {}\".format(input_shape))"
   ]
  },
  {
   "cell_type": "markdown",
   "id": "eb7b8735",
   "metadata": {
    "papermill": {
     "duration": 0.00966,
     "end_time": "2024-03-22T20:08:23.539276",
     "exception": false,
     "start_time": "2024-03-22T20:08:23.529616",
     "status": "completed"
    },
    "tags": []
   },
   "source": [
    "# 1) Add Dropout to Spotify Model\n",
    "\n",
    "Here is the last model from Exercise 4. Add two dropout layers, one after the `Dense` layer with 128 units, and one after the `Dense` layer with 64 units. Set the dropout rate on both to `0.3`."
   ]
  },
  {
   "cell_type": "code",
   "execution_count": 3,
   "id": "36287f95",
   "metadata": {
    "execution": {
     "iopub.execute_input": "2024-03-22T20:08:23.561328Z",
     "iopub.status.busy": "2024-03-22T20:08:23.560673Z",
     "iopub.status.idle": "2024-03-22T20:08:24.327069Z",
     "shell.execute_reply": "2024-03-22T20:08:24.326198Z"
    },
    "lines_to_next_cell": 2,
    "papermill": {
     "duration": 0.780479,
     "end_time": "2024-03-22T20:08:24.329447",
     "exception": false,
     "start_time": "2024-03-22T20:08:23.548968",
     "status": "completed"
    },
    "tags": []
   },
   "outputs": [
    {
     "data": {
      "application/javascript": [
       "parent.postMessage({\"jupyterEvent\": \"custom.exercise_interaction\", \"data\": {\"outcomeType\": 1, \"valueTowardsCompletion\": 0.25, \"interactionType\": 1, \"questionType\": 2, \"questionId\": \"1_Q1\", \"learnToolsVersion\": \"0.3.4\", \"failureMessage\": \"\", \"exceptionClass\": \"\", \"trace\": \"\"}}, \"*\")"
      ],
      "text/plain": [
       "<IPython.core.display.Javascript object>"
      ]
     },
     "metadata": {},
     "output_type": "display_data"
    },
    {
     "data": {
      "text/markdown": [
       "<span style=\"color:#33cc33\">Correct</span>"
      ],
      "text/plain": [
       "Correct"
      ]
     },
     "metadata": {},
     "output_type": "display_data"
    }
   ],
   "source": [
    "# YOUR CODE HERE: Add two 30% dropout layers, one after 128 and one after 64\n",
    "model = keras.Sequential([\n",
    "    layers.Dense(128, activation='relu', input_shape=input_shape),\n",
    "    layers.Dropout(0.3),\n",
    "    layers.Dense(64, activation='relu'),\n",
    "    layers.Dropout(0.3),\n",
    "    layers.Dense(1)\n",
    "])\n",
    "\n",
    "# Check your answer\n",
    "q_1.check()"
   ]
  },
  {
   "cell_type": "code",
   "execution_count": 4,
   "id": "21327efc",
   "metadata": {
    "execution": {
     "iopub.execute_input": "2024-03-22T20:08:24.344168Z",
     "iopub.status.busy": "2024-03-22T20:08:24.343847Z",
     "iopub.status.idle": "2024-03-22T20:08:24.347454Z",
     "shell.execute_reply": "2024-03-22T20:08:24.346688Z"
    },
    "papermill": {
     "duration": 0.013138,
     "end_time": "2024-03-22T20:08:24.349320",
     "exception": false,
     "start_time": "2024-03-22T20:08:24.336182",
     "status": "completed"
    },
    "tags": []
   },
   "outputs": [],
   "source": [
    "# Lines below will give you a hint or solution code\n",
    "#q_1.hint()\n",
    "#q_1.solution()"
   ]
  },
  {
   "cell_type": "markdown",
   "id": "4f10db9e",
   "metadata": {
    "papermill": {
     "duration": 0.006445,
     "end_time": "2024-03-22T20:08:24.362410",
     "exception": false,
     "start_time": "2024-03-22T20:08:24.355965",
     "status": "completed"
    },
    "tags": []
   },
   "source": [
    "Now run this next cell to train the model see the effect of adding dropout."
   ]
  },
  {
   "cell_type": "code",
   "execution_count": 5,
   "id": "b2a13972",
   "metadata": {
    "execution": {
     "iopub.execute_input": "2024-03-22T20:08:24.377488Z",
     "iopub.status.busy": "2024-03-22T20:08:24.377235Z",
     "iopub.status.idle": "2024-03-22T20:08:35.806095Z",
     "shell.execute_reply": "2024-03-22T20:08:35.805138Z"
    },
    "papermill": {
     "duration": 11.439298,
     "end_time": "2024-03-22T20:08:35.808259",
     "exception": false,
     "start_time": "2024-03-22T20:08:24.368961",
     "status": "completed"
    },
    "tags": []
   },
   "outputs": [
    {
     "name": "stderr",
     "output_type": "stream",
     "text": [
      "WARNING: All log messages before absl::InitializeLog() is called are written to STDERR\n",
      "I0000 00:00:1711138106.837398      67 device_compiler.h:186] Compiled cluster using XLA!  This line is logged at most once for the lifetime of the process.\n"
     ]
    },
    {
     "name": "stdout",
     "output_type": "stream",
     "text": [
      "Minimum Validation Loss: 0.1892\n"
     ]
    },
    {
     "data": {
      "image/png": "[encoded data removed]",
      "text/plain": [
       "<Figure size 640x480 with 1 Axes>"
      ]
     },
     "metadata": {},
     "output_type": "display_data"
    }
   ],
   "source": [
    "model.compile(\n",
    "    optimizer='adam',\n",
    "    loss='mae',\n",
    ")\n",
    "history = model.fit(\n",
    "    X_train, y_train,\n",
    "    validation_data=(X_valid, y_valid),\n",
    "    batch_size=512,\n",
    "    epochs=50,\n",
    "    verbose=0,\n",
    ")\n",
    "history_df = pd.DataFrame(history.history)\n",
    "history_df.loc[:, ['loss', 'val_loss']].plot()\n",
    "print(\"Minimum Validation Loss: {:0.4f}\".format(history_df['val_loss'].min()))"
   ]
  },
  {
   "cell_type": "markdown",
   "id": "035d5b07",
   "metadata": {
    "papermill": {
     "duration": 0.007013,
     "end_time": "2024-03-22T20:08:35.822661",
     "exception": false,
     "start_time": "2024-03-22T20:08:35.815648",
     "status": "completed"
    },
    "tags": []
   },
   "source": [
    "# 2) Evaluate Dropout\n",
    "\n",
    "Recall from Exercise 4 that this model tended to overfit the data around epoch 5. Did adding dropout seem to help prevent overfitting this time?"
   ]
  },
  {
   "cell_type": "code",
   "execution_count": 6,
   "id": "e58b2b42",
   "metadata": {
    "execution": {
     "iopub.execute_input": "2024-03-22T20:08:35.838333Z",
     "iopub.status.busy": "2024-03-22T20:08:35.838021Z",
     "iopub.status.idle": "2024-03-22T20:08:35.845199Z",
     "shell.execute_reply": "2024-03-22T20:08:35.844372Z"
    },
    "papermill": {
     "duration": 0.01705,
     "end_time": "2024-03-22T20:08:35.846999",
     "exception": false,
     "start_time": "2024-03-22T20:08:35.829949",
     "status": "completed"
    },
    "tags": []
   },
   "outputs": [
    {
     "data": {
      "application/javascript": [
       "parent.postMessage({\"jupyterEvent\": \"custom.exercise_interaction\", \"data\": {\"outcomeType\": 1, \"valueTowardsCompletion\": 0.25, \"interactionType\": 1, \"questionType\": 4, \"questionId\": \"2_Q2\", \"learnToolsVersion\": \"0.3.4\", \"failureMessage\": \"\", \"exceptionClass\": \"\", \"trace\": \"\"}}, \"*\")"
      ],
      "text/plain": [
       "<IPython.core.display.Javascript object>"
      ]
     },
     "metadata": {},
     "output_type": "display_data"
    },
    {
     "data": {
      "text/markdown": [
       "<span style=\"color:#33cc33\">Correct:</span> \n",
       "\n",
       "\n",
       "From the learning curves, you can see that the validation loss remains near a constant minimum even though the training loss continues to decrease. So we can see that adding dropout did prevent overfitting this time. Moreover, by making it harder for the network to fit spurious patterns, dropout may have encouraged the network to seek out more of the true patterns, possibly improving the validation loss some as well).\n"
      ],
      "text/plain": [
       "Correct: \n",
       "\n",
       "\n",
       "From the learning curves, you can see that the validation loss remains near a constant minimum even though the training loss continues to decrease. So we can see that adding dropout did prevent overfitting this time. Moreover, by making it harder for the network to fit spurious patterns, dropout may have encouraged the network to seek out more of the true patterns, possibly improving the validation loss some as well)."
      ]
     },
     "metadata": {},
     "output_type": "display_data"
    }
   ],
   "source": [
    "# View the solution (Run this cell to receive credit!)\n",
    "q_2.check()"
   ]
  },
  {
   "cell_type": "markdown",
   "id": "ac3a8a98",
   "metadata": {
    "papermill": {
     "duration": 0.007273,
     "end_time": "2024-03-22T20:08:35.861801",
     "exception": false,
     "start_time": "2024-03-22T20:08:35.854528",
     "status": "completed"
    },
    "tags": []
   },
   "source": [
    "Now, we'll switch topics to explore how batch normalization can fix problems in training.\n",
    "\n",
    "Load the *Concrete* dataset. We won't do any standardization this time. This will make the effect of batch normalization much more apparent."
   ]
  },
  {
   "cell_type": "code",
   "execution_count": 7,
   "id": "f9054d79",
   "metadata": {
    "execution": {
     "iopub.execute_input": "2024-03-22T20:08:35.878247Z",
     "iopub.status.busy": "2024-03-22T20:08:35.877547Z",
     "iopub.status.idle": "2024-03-22T20:08:35.903704Z",
     "shell.execute_reply": "2024-03-22T20:08:35.902744Z"
    },
    "papermill": {
     "duration": 0.036438,
     "end_time": "2024-03-22T20:08:35.905724",
     "exception": false,
     "start_time": "2024-03-22T20:08:35.869286",
     "status": "completed"
    },
    "tags": []
   },
   "outputs": [],
   "source": [
    "import pandas as pd\n",
    "\n",
    "concrete = pd.read_csv('../input/dl-course-data/concrete.csv')\n",
    "df = concrete.copy()\n",
    "\n",
    "df_train = df.sample(frac=0.7, random_state=0)\n",
    "df_valid = df.drop(df_train.index)\n",
    "\n",
    "X_train = df_train.drop('CompressiveStrength', axis=1)\n",
    "X_valid = df_valid.drop('CompressiveStrength', axis=1)\n",
    "y_train = df_train['CompressiveStrength']\n",
    "y_valid = df_valid['CompressiveStrength']\n",
    "\n",
    "input_shape = [X_train.shape[1]]"
   ]
  },
  {
   "cell_type": "markdown",
   "id": "91c2cb36",
   "metadata": {
    "papermill": {
     "duration": 0.007284,
     "end_time": "2024-03-22T20:08:35.920432",
     "exception": false,
     "start_time": "2024-03-22T20:08:35.913148",
     "status": "completed"
    },
    "tags": []
   },
   "source": [
    "Run the following cell to train the network on the unstandardized *Concrete* data."
   ]
  },
  {
   "cell_type": "code",
   "execution_count": 8,
   "id": "17a0dd04",
   "metadata": {
    "execution": {
     "iopub.execute_input": "2024-03-22T20:08:35.936485Z",
     "iopub.status.busy": "2024-03-22T20:08:35.936196Z",
     "iopub.status.idle": "2024-03-22T20:08:43.067094Z",
     "shell.execute_reply": "2024-03-22T20:08:43.066143Z"
    },
    "papermill": {
     "duration": 7.141284,
     "end_time": "2024-03-22T20:08:43.069236",
     "exception": false,
     "start_time": "2024-03-22T20:08:35.927952",
     "status": "completed"
    },
    "tags": []
   },
   "outputs": [
    {
     "name": "stdout",
     "output_type": "stream",
     "text": [
      "Minimum Validation Loss: nan\n"
     ]
    },
    {
     "data": {
      "image/png": "[encoded data removed]",
      "text/plain": [
       "<Figure size 640x480 with 1 Axes>"
      ]
     },
     "metadata": {},
     "output_type": "display_data"
    }
   ],
   "source": [
    "model = keras.Sequential([\n",
    "    layers.Dense(512, activation='relu', input_shape=input_shape),\n",
    "    layers.Dense(512, activation='relu'),    \n",
    "    layers.Dense(512, activation='relu'),\n",
    "    layers.Dense(1),\n",
    "])\n",
    "model.compile(\n",
    "    optimizer='sgd', # SGD is more sensitive to differences of scale\n",
    "    loss='mae',\n",
    "    metrics=['mae'],\n",
    ")\n",
    "history = model.fit(\n",
    "    X_train, y_train,\n",
    "    validation_data=(X_valid, y_valid),\n",
    "    batch_size=64,\n",
    "    epochs=100,\n",
    "    verbose=0,\n",
    ")\n",
    "\n",
    "history_df = pd.DataFrame(history.history)\n",
    "history_df.loc[0:, ['loss', 'val_loss']].plot()\n",
    "print((\"Minimum Validation Loss: {:0.4f}\").format(history_df['val_loss'].min()))"
   ]
  },
  {
   "cell_type": "markdown",
   "id": "3392d86c",
   "metadata": {
    "papermill": {
     "duration": 0.007696,
     "end_time": "2024-03-22T20:08:43.084943",
     "exception": false,
     "start_time": "2024-03-22T20:08:43.077247",
     "status": "completed"
    },
    "tags": []
   },
   "source": [
    "Did you end up with a blank graph? Trying to train this network on this dataset will usually fail. Even when it does converge (due to a lucky weight initialization), it tends to converge to a very large number.\n",
    "\n",
    "# 3) Add Batch Normalization Layers\n",
    "\n",
    "Batch normalization can help correct problems like this.\n",
    "\n",
    "Add four `BatchNormalization` layers, one before each of the dense layers. (Remember to move the `input_shape` argument to the new first layer.)"
   ]
  },
  {
   "cell_type": "code",
   "execution_count": 9,
   "id": "e96cfd90",
   "metadata": {
    "execution": {
     "iopub.execute_input": "2024-03-22T20:08:43.101653Z",
     "iopub.status.busy": "2024-03-22T20:08:43.101358Z",
     "iopub.status.idle": "2024-03-22T20:08:43.227981Z",
     "shell.execute_reply": "2024-03-22T20:08:43.227046Z"
    },
    "lines_to_next_cell": 0,
    "papermill": {
     "duration": 0.137266,
     "end_time": "2024-03-22T20:08:43.229984",
     "exception": false,
     "start_time": "2024-03-22T20:08:43.092718",
     "status": "completed"
    },
    "tags": []
   },
   "outputs": [
    {
     "data": {
      "application/javascript": [
       "parent.postMessage({\"jupyterEvent\": \"custom.exercise_interaction\", \"data\": {\"outcomeType\": 1, \"valueTowardsCompletion\": 0.25, \"interactionType\": 1, \"questionType\": 2, \"questionId\": \"3_Q3\", \"learnToolsVersion\": \"0.3.4\", \"failureMessage\": \"\", \"exceptionClass\": \"\", \"trace\": \"\"}}, \"*\")"
      ],
      "text/plain": [
       "<IPython.core.display.Javascript object>"
      ]
     },
     "metadata": {},
     "output_type": "display_data"
    },
    {
     "data": {
      "text/markdown": [
       "<span style=\"color:#33cc33\">Correct</span>"
      ],
      "text/plain": [
       "Correct"
      ]
     },
     "metadata": {},
     "output_type": "display_data"
    }
   ],
   "source": [
    "# YOUR CODE HERE: Add a BatchNormalization layer before each Dense layer\n",
    "model = keras.Sequential([\n",
    "    layers.BatchNormalization(input_shape=input_shape),\n",
    "    layers.Dense(512, activation='relu'),\n",
    "    layers.BatchNormalization(),\n",
    "    layers.Dense(512, activation='relu'),\n",
    "    layers.BatchNormalization(),\n",
    "    layers.Dense(512, activation='relu'),\n",
    "    layers.BatchNormalization(),\n",
    "    layers.Dense(1),\n",
    "])\n",
    "\n",
    "# Check your answer\n",
    "q_3.check()"
   ]
  },
  {
   "cell_type": "code",
   "execution_count": 10,
   "id": "92a07051",
   "metadata": {
    "execution": {
     "iopub.execute_input": "2024-03-22T20:08:43.247279Z",
     "iopub.status.busy": "2024-03-22T20:08:43.246991Z",
     "iopub.status.idle": "2024-03-22T20:08:43.250540Z",
     "shell.execute_reply": "2024-03-22T20:08:43.249722Z"
    },
    "papermill": {
     "duration": 0.014377,
     "end_time": "2024-03-22T20:08:43.252409",
     "exception": false,
     "start_time": "2024-03-22T20:08:43.238032",
     "status": "completed"
    },
    "tags": []
   },
   "outputs": [],
   "source": [
    "# Lines below will give you a hint or solution code\n",
    "#q_3.hint()\n",
    "#q_3.solution()"
   ]
  },
  {
   "cell_type": "markdown",
   "id": "cb6d6f08",
   "metadata": {
    "papermill": {
     "duration": 0.007809,
     "end_time": "2024-03-22T20:08:43.268301",
     "exception": false,
     "start_time": "2024-03-22T20:08:43.260492",
     "status": "completed"
    },
    "tags": []
   },
   "source": [
    "Run the next cell to see if batch normalization will let us train the model."
   ]
  },
  {
   "cell_type": "code",
   "execution_count": 11,
   "id": "5bc6cb6d",
   "metadata": {
    "execution": {
     "iopub.execute_input": "2024-03-22T20:08:43.285513Z",
     "iopub.status.busy": "2024-03-22T20:08:43.285207Z",
     "iopub.status.idle": "2024-03-22T20:08:54.379261Z",
     "shell.execute_reply": "2024-03-22T20:08:54.378244Z"
    },
    "papermill": {
     "duration": 11.105274,
     "end_time": "2024-03-22T20:08:54.381541",
     "exception": false,
     "start_time": "2024-03-22T20:08:43.276267",
     "status": "completed"
    },
    "tags": []
   },
   "outputs": [
    {
     "name": "stdout",
     "output_type": "stream",
     "text": [
      "Minimum Validation Loss: 3.9106\n"
     ]
    },
    {
     "data": {
      "image/png": "[encoded data removed]",
      "text/plain": [
       "<Figure size 640x480 with 1 Axes>"
      ]
     },
     "metadata": {},
     "output_type": "display_data"
    }
   ],
   "source": [
    "model.compile(\n",
    "    optimizer='sgd',\n",
    "    loss='mae',\n",
    "    metrics=['mae'],\n",
    ")\n",
    "EPOCHS = 100\n",
    "history = model.fit(\n",
    "    X_train, y_train,\n",
    "    validation_data=(X_valid, y_valid),\n",
    "    batch_size=64,\n",
    "    epochs=EPOCHS,\n",
    "    verbose=0,\n",
    ")\n",
    "\n",
    "history_df = pd.DataFrame(history.history)\n",
    "history_df.loc[0:, ['loss', 'val_loss']].plot()\n",
    "print((\"Minimum Validation Loss: {:0.4f}\").format(history_df['val_loss'].min()))"
   ]
  },
  {
   "cell_type": "markdown",
   "id": "bb532b74",
   "metadata": {
    "papermill": {
     "duration": 0.008522,
     "end_time": "2024-03-22T20:08:54.399187",
     "exception": false,
     "start_time": "2024-03-22T20:08:54.390665",
     "status": "completed"
    },
    "tags": []
   },
   "source": [
    "# 4) Evaluate Batch Normalization\n",
    "\n",
    "Did adding batch normalization help?"
   ]
  },
  {
   "cell_type": "code",
   "execution_count": 12,
   "id": "5b57fc79",
   "metadata": {
    "execution": {
     "iopub.execute_input": "2024-03-22T20:08:54.418316Z",
     "iopub.status.busy": "2024-03-22T20:08:54.417631Z",
     "iopub.status.idle": "2024-03-22T20:08:54.426324Z",
     "shell.execute_reply": "2024-03-22T20:08:54.425424Z"
    },
    "lines_to_next_cell": 0,
    "papermill": {
     "duration": 0.020335,
     "end_time": "2024-03-22T20:08:54.428213",
     "exception": false,
     "start_time": "2024-03-22T20:08:54.407878",
     "status": "completed"
    },
    "tags": []
   },
   "outputs": [
    {
     "data": {
      "application/javascript": [
       "parent.postMessage({\"jupyterEvent\": \"custom.exercise_interaction\", \"data\": {\"outcomeType\": 1, \"valueTowardsCompletion\": 0.25, \"interactionType\": 1, \"questionType\": 4, \"questionId\": \"4_Q4\", \"learnToolsVersion\": \"0.3.4\", \"failureMessage\": \"\", \"exceptionClass\": \"\", \"trace\": \"\"}}, \"*\")"
      ],
      "text/plain": [
       "<IPython.core.display.Javascript object>"
      ]
     },
     "metadata": {},
     "output_type": "display_data"
    },
    {
     "data": {
      "text/markdown": [
       "<span style=\"color:#33cc33\">Correct:</span> \n",
       "\n",
       "\n",
       "You can see that adding batch normalization was a big improvement on the first attempt! By adaptively scaling the data as it passes through the network, batch normalization can let you train models on difficult datasets.\n"
      ],
      "text/plain": [
       "Correct: \n",
       "\n",
       "\n",
       "You can see that adding batch normalization was a big improvement on the first attempt! By adaptively scaling the data as it passes through the network, batch normalization can let you train models on difficult datasets."
      ]
     },
     "metadata": {},
     "output_type": "display_data"
    }
   ],
   "source": [
    "# View the solution (Run this cell to receive credit!)\n",
    "q_4.check()"
   ]
  },
  {
   "cell_type": "markdown",
   "id": "abc58092",
   "metadata": {
    "papermill": {
     "duration": 0.008736,
     "end_time": "2024-03-22T20:08:54.446130",
     "exception": false,
     "start_time": "2024-03-22T20:08:54.437394",
     "status": "completed"
    },
    "tags": []
   },
   "source": [
    "# Keep Going #\n",
    "\n",
    "[**Create neural networks**](https://www.kaggle.com/ryanholbrook/binary-classification) for binary classification."
   ]
  },
  {
   "cell_type": "markdown",
   "id": "8f3fa0a1",
   "metadata": {
    "papermill": {
     "duration": 0.008652,
     "end_time": "2024-03-22T20:08:54.463631",
     "exception": false,
     "start_time": "2024-03-22T20:08:54.454979",
     "status": "completed"
    },
    "tags": []
   },
   "source": [
    "---\n",
    "\n",
    "\n",
    "\n",
    "\n",
    "*Have questions or comments? Visit the [course discussion forum](https://www.kaggle.com/learn/intro-to-deep-learning/discussion) to chat with other learners.*"
   ]
  }
 ],
 "metadata": {
  "jupytext": {
   "cell_metadata_filter": "-all",
   "formats": "ipynb"
  },
  "kaggle": {
   "accelerator": "gpu",
   "dataSources": [
    {
     "datasetId": 829369,
     "sourceId": 1480608,
     "sourceType": "datasetVersion"
    }
   ],
   "dockerImageVersionId": 30648,
   "isGpuEnabled": true,
   "isInternetEnabled": false,
   "language": "python",
   "sourceType": "notebook"
  },
  "kernelspec": {
   "display_name": "Python 3",
   "language": "python",
   "name": "python3"
  },
  "language_info": {
   "codemirror_mode": {
    "name": "ipython",
    "version": 3
   },
   "file_extension": ".py",
   "mimetype": "text/x-python",
   "name": "python",
   "nbconvert_exporter": "python",
   "pygments_lexer": "ipython3",
   "version": "3.10.13"
  },
  "papermill": {
   "default_parameters": {},
   "duration": 49.979001,
   "end_time": "2024-03-22T20:08:56.396363",
   "environment_variables": {},
   "exception": null,
   "input_path": "__notebook__.ipynb",
   "output_path": "__notebook__.ipynb",
   "parameters": {},
   "start_time": "2024-03-22T20:08:06.417362",
   "version": "2.5.0"
  }
 },
 "nbformat": 4,
 "nbformat_minor": 5
}
